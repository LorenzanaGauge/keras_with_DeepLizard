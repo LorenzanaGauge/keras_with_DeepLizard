{
 "cells": [
  {
   "cell_type": "code",
   "execution_count": 1,
   "id": "6b8e2291",
   "metadata": {},
   "outputs": [],
   "source": [
    "import tensorflow as tf\n",
    "from tensorflow import keras\n",
    "from tensorflow.keras.models import Sequential\n",
    "from tensorflow.keras.layers import Activation, Dense\n",
    "from tensorflow.keras.optimizers import Adam\n",
    "from tensorflow.keras.metrics import categorical_crossentropy"
   ]
  },
  {
   "cell_type": "markdown",
   "id": "11c51eee",
   "metadata": {},
   "source": [
    "# Data Preparation and Processing"
   ]
  },
  {
   "cell_type": "code",
   "execution_count": 8,
   "id": "fa3f5cd2",
   "metadata": {},
   "outputs": [],
   "source": [
    "import numpy as np\n",
    "from random import randint\n",
    "from sklearn.utils import shuffle\n",
    "from sklearn.preprocessing import MinMaxScaler"
   ]
  },
  {
   "cell_type": "code",
   "execution_count": 6,
   "id": "0261e322",
   "metadata": {},
   "outputs": [],
   "source": [
    "train_labels=[]\n",
    "train_samples=[]"
   ]
  },
  {
   "cell_type": "code",
   "execution_count": 9,
   "id": "7b81e5f0",
   "metadata": {},
   "outputs": [],
   "source": [
    "for i in range(50):\n",
    "    # The 5% of younger individuals who did experience side effects\n",
    "    random_younger =randint(13,64)\n",
    "    train_samples.append(random_younger)\n",
    "    train_labels.append(1)\n",
    "    \n",
    "    #The 5% of older individuals who did not experience side effects\n",
    "    random_older =randint(65,100)\n",
    "    train_samples.append(random_older)\n",
    "    train_labels.append(0)\n",
    "    \n",
    "for i in range(1000):\n",
    "    # The 95% of younger individuals who did not experience side effects\n",
    "    random_younger=randint(13,64)\n",
    "    train_samples.append(random_younger)\n",
    "    train_labels.append(0)\n",
    "    \n",
    "    # The 95% of older individuals who did exprience side effects\n",
    "    random_older =randint(65,100)\n",
    "    train_samples.append(random_older)\n",
    "    train_labels.append(1)"
   ]
  },
  {
   "cell_type": "code",
   "execution_count": 2,
   "id": "14173787",
   "metadata": {},
   "outputs": [
    {
     "name": "stdout",
     "output_type": "stream",
     "text": [
      "Num GPUs Available:  1\n"
     ]
    }
   ],
   "source": [
    "physical_devices = tf.config.experimental.list_physical_devices('GPU')\n",
    "print('Num GPUs Available: ', len(physical_devices))\n",
    "tf.config.experimental.set_memory_growth(physical_devices[0], True)"
   ]
  },
  {
   "cell_type": "code",
   "execution_count": 10,
   "id": "1372a464",
   "metadata": {},
   "outputs": [],
   "source": [
    "train_labels = np.array(train_labels)\n",
    "train_samples = np.array(train_samples)\n",
    "train_labels, train_samples= shuffle(train_labels, train_samples)"
   ]
  },
  {
   "cell_type": "code",
   "execution_count": 11,
   "id": "3d6be922",
   "metadata": {},
   "outputs": [],
   "source": [
    "scaler= MinMaxScaler(feature_range=(0,1))\n",
    "#The samples range from 13 to 100, so we reduce this scale\n",
    "scaled_train_samples =scaler.fit_transform(train_samples.reshape(-1,1))\n",
    "#It's just because scaler does not accept 1-D arrays"
   ]
  },
  {
   "cell_type": "markdown",
   "id": "7aa015b5",
   "metadata": {},
   "source": [
    "# Define the model"
   ]
  },
  {
   "cell_type": "code",
   "execution_count": 3,
   "id": "f46fbf11",
   "metadata": {},
   "outputs": [],
   "source": [
    "model=Sequential([\n",
    "    Dense(units=16, input_shape=(1,), activation='relu'), #units==nodes\n",
    "    Dense(units=32, activation='relu'),\n",
    "    Dense(units=2, activation='softmax')\n",
    "])"
   ]
  },
  {
   "cell_type": "code",
   "execution_count": 4,
   "id": "3b14787f",
   "metadata": {},
   "outputs": [
    {
     "name": "stdout",
     "output_type": "stream",
     "text": [
      "Model: \"sequential\"\n",
      "_________________________________________________________________\n",
      "Layer (type)                 Output Shape              Param #   \n",
      "=================================================================\n",
      "dense (Dense)                (None, 16)                32        \n",
      "_________________________________________________________________\n",
      "dense_1 (Dense)              (None, 32)                544       \n",
      "_________________________________________________________________\n",
      "dense_2 (Dense)              (None, 2)                 66        \n",
      "=================================================================\n",
      "Total params: 642\n",
      "Trainable params: 642\n",
      "Non-trainable params: 0\n",
      "_________________________________________________________________\n"
     ]
    }
   ],
   "source": [
    "model.summary()"
   ]
  },
  {
   "cell_type": "markdown",
   "id": "fd6fa04e",
   "metadata": {},
   "source": [
    "# Training process"
   ]
  },
  {
   "cell_type": "code",
   "execution_count": 5,
   "id": "371a369d",
   "metadata": {},
   "outputs": [],
   "source": [
    "model.compile(optimizer=Adam(learning_rate=0.0001), loss='sparse_categorical_crossentropy', metrics=['accuracy'])"
   ]
  },
  {
   "cell_type": "code",
   "execution_count": 12,
   "id": "7c533ae6",
   "metadata": {},
   "outputs": [
    {
     "name": "stdout",
     "output_type": "stream",
     "text": [
      "Epoch 1/30\n",
      "210/210 - 0s - loss: 0.6631 - accuracy: 0.5748\n",
      "Epoch 2/30\n",
      "210/210 - 0s - loss: 0.6288 - accuracy: 0.6719\n",
      "Epoch 3/30\n",
      "210/210 - 0s - loss: 0.5964 - accuracy: 0.7124\n",
      "Epoch 4/30\n",
      "210/210 - 0s - loss: 0.5600 - accuracy: 0.7710\n",
      "Epoch 5/30\n",
      "210/210 - 0s - loss: 0.5262 - accuracy: 0.8029\n",
      "Epoch 6/30\n",
      "210/210 - 0s - loss: 0.4940 - accuracy: 0.8276\n",
      "Epoch 7/30\n",
      "210/210 - 0s - loss: 0.4630 - accuracy: 0.8471\n",
      "Epoch 8/30\n",
      "210/210 - 0s - loss: 0.4345 - accuracy: 0.8624\n",
      "Epoch 9/30\n",
      "210/210 - 0s - loss: 0.4084 - accuracy: 0.8771\n",
      "Epoch 10/30\n",
      "210/210 - 0s - loss: 0.3844 - accuracy: 0.8862\n",
      "Epoch 11/30\n",
      "210/210 - 0s - loss: 0.3637 - accuracy: 0.8981\n",
      "Epoch 12/30\n",
      "210/210 - 0s - loss: 0.3461 - accuracy: 0.9048\n",
      "Epoch 13/30\n",
      "210/210 - 0s - loss: 0.3308 - accuracy: 0.9124\n",
      "Epoch 14/30\n",
      "210/210 - 0s - loss: 0.3185 - accuracy: 0.9157\n",
      "Epoch 15/30\n",
      "210/210 - 0s - loss: 0.3084 - accuracy: 0.9167\n",
      "Epoch 16/30\n",
      "210/210 - 0s - loss: 0.3001 - accuracy: 0.9176\n",
      "Epoch 17/30\n",
      "210/210 - 0s - loss: 0.2933 - accuracy: 0.9214\n",
      "Epoch 18/30\n",
      "210/210 - 0s - loss: 0.2877 - accuracy: 0.9200\n",
      "Epoch 19/30\n",
      "210/210 - 0s - loss: 0.2829 - accuracy: 0.9229\n",
      "Epoch 20/30\n",
      "210/210 - 0s - loss: 0.2789 - accuracy: 0.9286\n",
      "Epoch 21/30\n",
      "210/210 - 0s - loss: 0.2756 - accuracy: 0.9233\n",
      "Epoch 22/30\n",
      "210/210 - 0s - loss: 0.2728 - accuracy: 0.9252\n",
      "Epoch 23/30\n",
      "210/210 - 0s - loss: 0.2703 - accuracy: 0.9286\n",
      "Epoch 24/30\n",
      "210/210 - 0s - loss: 0.2681 - accuracy: 0.9295\n",
      "Epoch 25/30\n",
      "210/210 - 0s - loss: 0.2663 - accuracy: 0.9305\n",
      "Epoch 26/30\n",
      "210/210 - 0s - loss: 0.2645 - accuracy: 0.9329\n",
      "Epoch 27/30\n",
      "210/210 - 0s - loss: 0.2631 - accuracy: 0.9329\n",
      "Epoch 28/30\n",
      "210/210 - 0s - loss: 0.2619 - accuracy: 0.9310\n",
      "Epoch 29/30\n",
      "210/210 - 0s - loss: 0.2606 - accuracy: 0.9338\n",
      "Epoch 30/30\n",
      "210/210 - 0s - loss: 0.2597 - accuracy: 0.9305\n"
     ]
    },
    {
     "data": {
      "text/plain": [
       "<tensorflow.python.keras.callbacks.History at 0x7fd190404b20>"
      ]
     },
     "execution_count": 12,
     "metadata": {},
     "output_type": "execute_result"
    }
   ],
   "source": [
    "model.fit(x=scaled_train_samples, y=train_labels, batch_size=10, epochs=30, shuffle=True, verbose=2)"
   ]
  },
  {
   "cell_type": "code",
   "execution_count": null,
   "id": "6b4121e6",
   "metadata": {},
   "outputs": [],
   "source": []
  }
 ],
 "metadata": {
  "kernelspec": {
   "display_name": "Python 3",
   "language": "python",
   "name": "python3"
  },
  "language_info": {
   "codemirror_mode": {
    "name": "ipython",
    "version": 3
   },
   "file_extension": ".py",
   "mimetype": "text/x-python",
   "name": "python",
   "nbconvert_exporter": "python",
   "pygments_lexer": "ipython3",
   "version": "3.8.5"
  }
 },
 "nbformat": 4,
 "nbformat_minor": 5
}
